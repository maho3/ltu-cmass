{
 "cells": [
  {
   "cell_type": "markdown",
   "id": "8d075cae",
   "metadata": {},
   "source": [
    "## Save nbar\n",
    "Due to a recent PR, we now save the number density of every summary in the group attributes. This notebook goes back and saves `nbar` for all older diagnostics files."
   ]
  },
  {
   "cell_type": "code",
   "execution_count": 1,
   "id": "302bc273",
   "metadata": {},
   "outputs": [],
   "source": [
    "%load_ext autoreload\n",
    "%autoreload 2\n",
    "\n",
    "%matplotlib inline\n",
    "\n",
    "import os\n",
    "from os.path import join\n",
    "import pickle\n",
    "import json\n",
    "import h5py\n",
    "import matplotlib as mpl\n",
    "import matplotlib.pyplot as plt\n",
    "# mpl.style.use('../../style.mcstyle')   # noqa\n",
    "import numpy as np\n",
    "import torch\n",
    "import seaborn as sns\n",
    "import pandas as pd\n",
    "import warnings\n",
    "from tqdm import tqdm\n",
    "\n",
    "# Suppress warnings\n",
    "warnings.filterwarnings('ignore')"
   ]
  },
  {
   "cell_type": "code",
   "execution_count": 7,
   "id": "ab33c3cf",
   "metadata": {},
   "outputs": [],
   "source": [
    "wdir = '/anvil/scratch/x-mho1/cmass-ili'\n",
    "nbody = 'abacus'\n",
    "sim = 'correct'\n",
    "L, N = 1000, 128\n",
    "L, N = 2000, 256\n",
    "\n",
    "suitepath = join(wdir, nbody, sim, f'L{L}-N{N}')\n",
    "\n",
    "tracer = 'halos'"
   ]
  },
  {
   "cell_type": "code",
   "execution_count": null,
   "id": "ab1a18ea",
   "metadata": {},
   "outputs": [
    {
     "name": "stderr",
     "output_type": "stream",
     "text": [
      "100%|██████████| 52/52 [00:00<00:00, 59.94it/s]\n"
     ]
    }
   ],
   "source": [
    "def compute_nbar(Ngals, L):\n",
    "    return Ngals / L**3\n",
    "\n",
    "\n",
    "def compute_log10nbar(Ngals, L):\n",
    "    return np.log10(Ngals) - 3 * np.log10(L)\n",
    "\n",
    "\n",
    "def get_lc_L(cap):\n",
    "    if cap == 'ngc':\n",
    "        L = 3500\n",
    "    elif cap == 'sgc':\n",
    "        L = 2750\n",
    "    elif cap == 'mtng':\n",
    "        L = 2000\n",
    "    elif cap == 'simbig':\n",
    "        L = 2000\n",
    "    else:\n",
    "        raise ValueError\n",
    "    return L\n",
    "\n",
    "\n",
    "def process_file(ingroup, outgroup, Nmin, L):\n",
    "    key = 'pos' if 'pos' in ingroup.keys() else 'ra'\n",
    "    Ngals = min(len(ingroup[key]), Nmin)\n",
    "    nbar = compute_nbar(Ngals, L)\n",
    "    log10nbar = compute_log10nbar(Ngals, L)\n",
    "    print(nbar, log10nbar)\n",
    "    outgroup.attrs['nbar'] = nbar\n",
    "    outgroup.attrs['log10nbar'] = log10nbar\n",
    "\n",
    "\n",
    "def process_halogalaxy_diag(tracerfile, diagfile, Nmin, L):\n",
    "    with h5py.File(tracerfile, 'r') as g, h5py.File(diagfile, 'a') as f:\n",
    "        for key in f.keys():\n",
    "            process_file(g[key], f[key], Nmin, L)\n",
    "\n",
    "\n",
    "def process_lightcone_diag(tracerfile, diagfile, Nmin, L):\n",
    "    with h5py.File(tracerfile, 'r') as g, h5py.File(diagfile, 'a') as f:\n",
    "        process_file(g, f, Nmin, L)\n",
    "\n",
    "\n",
    "def process_lhid(lhid, suitepath, tracer, Nmin, L):\n",
    "    tracerpath = join(suitepath, lhid, tracer)\n",
    "    diagpath = join(suitepath, lhid, 'diag', tracer)\n",
    "    if tracer == 'halos':\n",
    "        tracerpath += '.h5'\n",
    "        diagpath += '.h5'\n",
    "        if not os.path.exists(diagpath):\n",
    "            return\n",
    "        process_halogalaxy_diag(tracerpath, diagpath, Nmin, L)\n",
    "    else:  # galaxies and lightcone\n",
    "        if not os.path.exists(diagpath):\n",
    "            return\n",
    "        for f in os.listdir(diagpath):\n",
    "            diagfile = join(diagpath, f)\n",
    "            tracerfile = join(tracerpath, f)\n",
    "            if tracer == 'galaxies':\n",
    "                process_halogalaxy_diag(tracerfile, diagfile, Nmin, L)\n",
    "            elif 'lightcone' in tracer:\n",
    "                L = get_lc_L(tracer.split('_')[0])\n",
    "                process_lightcone_diag(tracerfile, diagfile, Nmin, L)\n",
    "\n",
    "\n",
    "nbar_min = np.inf\n",
    "Nmin = nbar_min * L**3\n",
    "\n",
    "for lhid in tqdm(os.listdir(suitepath)):\n",
    "    process_lhid(lhid, suitepath, tracer, Nmin, L)"
   ]
  },
  {
   "cell_type": "code",
   "execution_count": null,
   "id": "4acb047e",
   "metadata": {},
   "outputs": [],
   "source": []
  }
 ],
 "metadata": {
  "kernelspec": {
   "display_name": "Python 3",
   "language": "python",
   "name": "python3"
  },
  "language_info": {
   "codemirror_mode": {
    "name": "ipython",
    "version": 3
   },
   "file_extension": ".py",
   "mimetype": "text/x-python",
   "name": "python",
   "nbconvert_exporter": "python",
   "pygments_lexer": "ipython3",
   "version": "3.10.16"
  }
 },
 "nbformat": 4,
 "nbformat_minor": 5
}
